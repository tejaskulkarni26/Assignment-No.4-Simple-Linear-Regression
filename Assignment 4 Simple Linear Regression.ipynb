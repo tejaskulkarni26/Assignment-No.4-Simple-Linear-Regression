{
 "cells": [
  {
   "cell_type": "markdown",
   "id": "39dbd904",
   "metadata": {},
   "source": [
    "#  Assignment_4: Simple_Linear_Regression"
   ]
  },
  {
   "cell_type": "markdown",
   "id": "da678aa5",
   "metadata": {},
   "source": [
    "1) Delivery_time -> Predict delivery time using sorting time 2) Salary_hike -> Build a prediction model for Salary_hike"
   ]
  },
  {
   "cell_type": "markdown",
   "id": "4ad3af81",
   "metadata": {},
   "source": [
    "Build a simple Linear Regression Model By Performing EDA and do Necessary Transformations\n",
    "and Select The best Model Using R or Python"
   ]
  },
  {
   "cell_type": "markdown",
   "id": "1ad5af7e",
   "metadata": {},
   "source": [
    "# 1) Delivery_time-> Predict Delivery Time using sorting Time"
   ]
  },
  {
   "cell_type": "markdown",
   "id": "e9a2deb8",
   "metadata": {},
   "source": [
    "# EDA"
   ]
  },
  {
   "cell_type": "code",
   "execution_count": 1,
   "id": "ebc1a4bf",
   "metadata": {},
   "outputs": [],
   "source": [
    "import numpy as np\n",
    "import pandas as pd\n",
    "import statsmodels.formula.api as smf\n",
    "import seaborn as sns\n",
    "import matplotlib.pyplot as plt\n",
    "from sklearn.preprocessing import MinMaxScaler"
   ]
  },
  {
   "cell_type": "code",
   "execution_count": 2,
   "id": "f9b95b72",
   "metadata": {},
   "outputs": [
    {
     "name": "stdout",
     "output_type": "stream",
     "text": [
      "\n",
      " Shape is                   : \n",
      " (21, 2)\n",
      "\n",
      " Data Types                   : \n",
      " Delivery Time    float64\n",
      "Sorting Time       int64\n",
      "dtype: object\n",
      "\n",
      " Null values are                  : \n",
      " Delivery Time    0\n",
      "Sorting Time     0\n",
      "dtype: int64\n",
      "\n",
      " Discriptive Analysis of data       : \n",
      "        Delivery Time  Sorting Time\n",
      "count      21.000000     21.000000\n",
      "mean       16.790952      6.190476\n",
      "std         5.074901      2.542028\n",
      "min         8.000000      2.000000\n",
      "25%        13.500000      4.000000\n",
      "50%        17.830000      6.000000\n",
      "75%        19.750000      8.000000\n",
      "max        29.000000     10.000000\n",
      "<class 'pandas.core.frame.DataFrame'>\n",
      "RangeIndex: 21 entries, 0 to 20\n",
      "Data columns (total 2 columns):\n",
      " #   Column         Non-Null Count  Dtype  \n",
      "---  ------         --------------  -----  \n",
      " 0   Delivery Time  21 non-null     float64\n",
      " 1   Sorting Time   21 non-null     int64  \n",
      "dtypes: float64(1), int64(1)\n",
      "memory usage: 464.0 bytes\n",
      "\n",
      " Data Info                       : \n",
      " None\n",
      "Columns names                      : \n",
      " Index(['Delivery Time', 'Sorting Time'], dtype='object')\n"
     ]
    },
    {
     "data": {
      "text/html": [
       "<div>\n",
       "<style scoped>\n",
       "    .dataframe tbody tr th:only-of-type {\n",
       "        vertical-align: middle;\n",
       "    }\n",
       "\n",
       "    .dataframe tbody tr th {\n",
       "        vertical-align: top;\n",
       "    }\n",
       "\n",
       "    .dataframe thead th {\n",
       "        text-align: right;\n",
       "    }\n",
       "</style>\n",
       "<table border=\"1\" class=\"dataframe\">\n",
       "  <thead>\n",
       "    <tr style=\"text-align: right;\">\n",
       "      <th></th>\n",
       "      <th>Delivery_Time</th>\n",
       "      <th>Sorting_Time</th>\n",
       "    </tr>\n",
       "  </thead>\n",
       "  <tbody>\n",
       "    <tr>\n",
       "      <th>0</th>\n",
       "      <td>21.00</td>\n",
       "      <td>10</td>\n",
       "    </tr>\n",
       "    <tr>\n",
       "      <th>1</th>\n",
       "      <td>13.50</td>\n",
       "      <td>4</td>\n",
       "    </tr>\n",
       "    <tr>\n",
       "      <th>2</th>\n",
       "      <td>19.75</td>\n",
       "      <td>6</td>\n",
       "    </tr>\n",
       "    <tr>\n",
       "      <th>3</th>\n",
       "      <td>24.00</td>\n",
       "      <td>9</td>\n",
       "    </tr>\n",
       "    <tr>\n",
       "      <th>4</th>\n",
       "      <td>29.00</td>\n",
       "      <td>10</td>\n",
       "    </tr>\n",
       "    <tr>\n",
       "      <th>5</th>\n",
       "      <td>15.35</td>\n",
       "      <td>6</td>\n",
       "    </tr>\n",
       "    <tr>\n",
       "      <th>6</th>\n",
       "      <td>19.00</td>\n",
       "      <td>7</td>\n",
       "    </tr>\n",
       "    <tr>\n",
       "      <th>7</th>\n",
       "      <td>9.50</td>\n",
       "      <td>3</td>\n",
       "    </tr>\n",
       "    <tr>\n",
       "      <th>8</th>\n",
       "      <td>17.90</td>\n",
       "      <td>10</td>\n",
       "    </tr>\n",
       "    <tr>\n",
       "      <th>9</th>\n",
       "      <td>18.75</td>\n",
       "      <td>9</td>\n",
       "    </tr>\n",
       "    <tr>\n",
       "      <th>10</th>\n",
       "      <td>19.83</td>\n",
       "      <td>8</td>\n",
       "    </tr>\n",
       "    <tr>\n",
       "      <th>11</th>\n",
       "      <td>10.75</td>\n",
       "      <td>4</td>\n",
       "    </tr>\n",
       "    <tr>\n",
       "      <th>12</th>\n",
       "      <td>16.68</td>\n",
       "      <td>7</td>\n",
       "    </tr>\n",
       "    <tr>\n",
       "      <th>13</th>\n",
       "      <td>11.50</td>\n",
       "      <td>3</td>\n",
       "    </tr>\n",
       "    <tr>\n",
       "      <th>14</th>\n",
       "      <td>12.03</td>\n",
       "      <td>3</td>\n",
       "    </tr>\n",
       "    <tr>\n",
       "      <th>15</th>\n",
       "      <td>14.88</td>\n",
       "      <td>4</td>\n",
       "    </tr>\n",
       "    <tr>\n",
       "      <th>16</th>\n",
       "      <td>13.75</td>\n",
       "      <td>6</td>\n",
       "    </tr>\n",
       "    <tr>\n",
       "      <th>17</th>\n",
       "      <td>18.11</td>\n",
       "      <td>7</td>\n",
       "    </tr>\n",
       "    <tr>\n",
       "      <th>18</th>\n",
       "      <td>8.00</td>\n",
       "      <td>2</td>\n",
       "    </tr>\n",
       "    <tr>\n",
       "      <th>19</th>\n",
       "      <td>17.83</td>\n",
       "      <td>7</td>\n",
       "    </tr>\n",
       "    <tr>\n",
       "      <th>20</th>\n",
       "      <td>21.50</td>\n",
       "      <td>5</td>\n",
       "    </tr>\n",
       "  </tbody>\n",
       "</table>\n",
       "</div>"
      ],
      "text/plain": [
       "    Delivery_Time  Sorting_Time\n",
       "0           21.00            10\n",
       "1           13.50             4\n",
       "2           19.75             6\n",
       "3           24.00             9\n",
       "4           29.00            10\n",
       "5           15.35             6\n",
       "6           19.00             7\n",
       "7            9.50             3\n",
       "8           17.90            10\n",
       "9           18.75             9\n",
       "10          19.83             8\n",
       "11          10.75             4\n",
       "12          16.68             7\n",
       "13          11.50             3\n",
       "14          12.03             3\n",
       "15          14.88             4\n",
       "16          13.75             6\n",
       "17          18.11             7\n",
       "18           8.00             2\n",
       "19          17.83             7\n",
       "20          21.50             5"
      ]
     },
     "execution_count": 2,
     "metadata": {},
     "output_type": "execute_result"
    }
   ],
   "source": [
    "df = pd.read_csv(\"C:\\\\Users\\\\LENOVO\\\\Downloads\\\\delivery_time.csv\")\n",
    "print(\"\\n Shape is                   : \\n\", df.shape)\n",
    "print(\"\\n Data Types                   : \\n\", df.dtypes)\n",
    "print(\"\\n Null values are                  : \\n\", df.isna().sum())\n",
    "print(\"\\n Discriptive Analysis of data       : \\n\", df.describe())\n",
    "print(\"\\n Data Info                       : \\n\", df.info())\n",
    "print(\"Columns names                      : \\n\", df.columns)\n",
    "\n",
    "#Rename Columns :\n",
    "\n",
    "df[\"Delivery_Time\"]=df[\"Delivery Time\"].rename(\"Delivery_Time\")\n",
    "df[\"Sorting_Time\"]= df[\"Sorting Time\"].rename(\"Sorting_time\")\n",
    "\n",
    "#Drop Columns :\n",
    "df.drop([\"Delivery Time\", \"Sorting Time\"], axis=1,inplace=True)\n",
    "#Drop null values From the data\n",
    "df=df.dropna()\n",
    "df"
   ]
  },
  {
   "cell_type": "markdown",
   "id": "722be40a",
   "metadata": {},
   "source": [
    "# Correlation"
   ]
  },
  {
   "cell_type": "code",
   "execution_count": 3,
   "id": "20e8208f",
   "metadata": {},
   "outputs": [
    {
     "name": "stdout",
     "output_type": "stream",
     "text": [
      "               Delivery_Time  Sorting_Time\n",
      "Delivery_Time       1.000000      0.825997\n",
      "Sorting_Time        0.825997      1.000000\n"
     ]
    }
   ],
   "source": [
    "print(df.corr())\n",
    "#Value Is 0.825997 so we can Say Delivery Time Time and Sorting Time Are Positively"
   ]
  },
  {
   "cell_type": "markdown",
   "id": "4bea4f97",
   "metadata": {},
   "source": [
    "# Data Visualization"
   ]
  },
  {
   "cell_type": "code",
   "execution_count": 4,
   "id": "0fb43baa",
   "metadata": {},
   "outputs": [
    {
     "data": {
      "image/png": "[encoded data removed]",
      "text/plain": [
       "<Figure size 1080x360 with 2 Axes>"
      ]
     },
     "metadata": {
      "needs_background": "light"
     },
     "output_type": "display_data"
    }
   ],
   "source": [
    "fig, ax=plt.subplots(nrows=1, ncols=2, figsize=(15,5))\n",
    "ax[0]. boxplot(df['Delivery_Time']);ax[0].set_title(\"Delivery Time\")\n",
    "ax[1].boxplot(df['Sorting_Time']);ax[1].set_title(\"Sorting Time\")\n",
    "plt.show()"
   ]
  },
  {
   "cell_type": "code",
   "execution_count": 5,
   "id": "4f935b29",
   "metadata": {},
   "outputs": [
    {
     "name": "stderr",
     "output_type": "stream",
     "text": [
      "C:\\ProgramData\\Anaconda3\\lib\\site-packages\\seaborn\\distributions.py:2619: FutureWarning: `distplot` is a deprecated function and will be removed in a future version. Please adapt your code to use either `displot` (a figure-level function with similar flexibility) or `histplot` (an axes-level function for histograms).\n",
      "  warnings.warn(msg, FutureWarning)\n"
     ]
    },
    {
     "data": {
      "image/png": "[encoded data removed]",
      "text/plain": [
       "<Figure size 432x288 with 1 Axes>"
      ]
     },
     "metadata": {
      "needs_background": "light"
     },
     "output_type": "display_data"
    },
    {
     "name": "stderr",
     "output_type": "stream",
     "text": [
      "C:\\ProgramData\\Anaconda3\\lib\\site-packages\\seaborn\\distributions.py:2619: FutureWarning: `distplot` is a deprecated function and will be removed in a future version. Please adapt your code to use either `displot` (a figure-level function with similar flexibility) or `histplot` (an axes-level function for histograms).\n",
      "  warnings.warn(msg, FutureWarning)\n"
     ]
    },
    {
     "data": {
      "image/png": "[encoded data removed]",
      "text/plain": [
       "<Figure size 432x288 with 1 Axes>"
      ]
     },
     "metadata": {
      "needs_background": "light"
     },
     "output_type": "display_data"
    }
   ],
   "source": [
    "sns.distplot(df[\"Delivery_Time\"])\n",
    "plt.show()\n",
    "sns.distplot(df[\"Sorting_Time\"])\n",
    "plt.show()"
   ]
  },
  {
   "cell_type": "markdown",
   "id": "17355db8",
   "metadata": {},
   "source": [
    "# Model Building"
   ]
  },
  {
   "cell_type": "code",
   "execution_count": 6,
   "id": "f3684e63",
   "metadata": {},
   "outputs": [
    {
     "data": {
      "text/plain": [
       "<AxesSubplot:xlabel='Delivery_Time', ylabel='Sorting_Time'>"
      ]
     },
     "execution_count": 6,
     "metadata": {},
     "output_type": "execute_result"
    },
    {
     "data": {
      "image/png": "[encoded data removed]",
      "text/plain": [
       "<Figure size 432x288 with 1 Axes>"
      ]
     },
     "metadata": {
      "needs_background": "light"
     },
     "output_type": "display_data"
    }
   ],
   "source": [
    "sns.regplot(x='Delivery_Time',y='Sorting_Time',data=df)"
   ]
  },
  {
   "cell_type": "markdown",
   "id": "8b5be79d",
   "metadata": {},
   "source": [
    "# Model Fitting"
   ]
  },
  {
   "cell_type": "code",
   "execution_count": 7,
   "id": "aa746f35",
   "metadata": {},
   "outputs": [],
   "source": [
    "model=smf.ols(\"Delivery_Time~Sorting_Time\",data=df).fit()"
   ]
  },
  {
   "cell_type": "markdown",
   "id": "3e32da76",
   "metadata": {},
   "source": [
    "# Coefficient"
   ]
  },
  {
   "cell_type": "code",
   "execution_count": 8,
   "id": "ec7c51f7",
   "metadata": {},
   "outputs": [
    {
     "data": {
      "text/plain": [
       "Intercept       6.582734\n",
       "Sorting_Time    1.649020\n",
       "dtype: float64"
      ]
     },
     "execution_count": 8,
     "metadata": {},
     "output_type": "execute_result"
    }
   ],
   "source": [
    "#Coefficients\n",
    "model.params"
   ]
  },
  {
   "cell_type": "code",
   "execution_count": 9,
   "id": "77611782",
   "metadata": {},
   "outputs": [
    {
     "name": "stdout",
     "output_type": "stream",
     "text": [
      "t value is:\n",
      " Intercept       3.823349\n",
      "Sorting_Time    6.387447\n",
      "dtype: float64 \n",
      " p Value is:\n",
      " Intercept       0.001147\n",
      "Sorting_Time    0.000004\n",
      "dtype: float64\n"
     ]
    }
   ],
   "source": [
    "#t values and p values:\n",
    "print(\"t value is:\\n\",model.tvalues,'\\n',\"p Value is:\\n\",model.pvalues)"
   ]
  },
  {
   "cell_type": "code",
   "execution_count": 10,
   "id": "88a53f50",
   "metadata": {},
   "outputs": [
    {
     "name": "stdout",
     "output_type": "stream",
     "text": [
      "R squared Value is:\n",
      " 0.6822714748417231 \n",
      " R squared_adjacent value is:\n",
      " 0.6655489208860244\n"
     ]
    }
   ],
   "source": [
    "#Coefficient Of determination: R squared Values\n",
    "print(\"R squared Value is:\\n\",model.rsquared,'\\n',\"R squared_adjacent value is:\\n\", model.rsquared_adj)\n",
    "# R sqaured value = 0.68,we can say line is good"
   ]
  },
  {
   "cell_type": "code",
   "execution_count": 11,
   "id": "6907b9c4",
   "metadata": {},
   "outputs": [
    {
     "data": {
      "text/html": [
       "<table class=\"simpletable\">\n",
       "<caption>OLS Regression Results</caption>\n",
       "<tr>\n",
       "  <th>Dep. Variable:</th>      <td>Delivery_Time</td>  <th>  R-squared:         </th> <td>   0.682</td>\n",
       "</tr>\n",
       "<tr>\n",
       "  <th>Model:</th>                   <td>OLS</td>       <th>  Adj. R-squared:    </th> <td>   0.666</td>\n",
       "</tr>\n",
       "<tr>\n",
       "  <th>Method:</th>             <td>Least Squares</td>  <th>  F-statistic:       </th> <td>   40.80</td>\n",
       "</tr>\n",
       "<tr>\n",
       "  <th>Date:</th>             <td>Thu, 13 Oct 2022</td> <th>  Prob (F-statistic):</th> <td>3.98e-06</td>\n",
       "</tr>\n",
       "<tr>\n",
       "  <th>Time:</th>                 <td>16:26:24</td>     <th>  Log-Likelihood:    </th> <td> -51.357</td>\n",
       "</tr>\n",
       "<tr>\n",
       "  <th>No. Observations:</th>      <td>    21</td>      <th>  AIC:               </th> <td>   106.7</td>\n",
       "</tr>\n",
       "<tr>\n",
       "  <th>Df Residuals:</th>          <td>    19</td>      <th>  BIC:               </th> <td>   108.8</td>\n",
       "</tr>\n",
       "<tr>\n",
       "  <th>Df Model:</th>              <td>     1</td>      <th>                     </th>     <td> </td>   \n",
       "</tr>\n",
       "<tr>\n",
       "  <th>Covariance Type:</th>      <td>nonrobust</td>    <th>                     </th>     <td> </td>   \n",
       "</tr>\n",
       "</table>\n",
       "<table class=\"simpletable\">\n",
       "<tr>\n",
       "        <td></td>          <th>coef</th>     <th>std err</th>      <th>t</th>      <th>P>|t|</th>  <th>[0.025</th>    <th>0.975]</th>  \n",
       "</tr>\n",
       "<tr>\n",
       "  <th>Intercept</th>    <td>    6.5827</td> <td>    1.722</td> <td>    3.823</td> <td> 0.001</td> <td>    2.979</td> <td>   10.186</td>\n",
       "</tr>\n",
       "<tr>\n",
       "  <th>Sorting_Time</th> <td>    1.6490</td> <td>    0.258</td> <td>    6.387</td> <td> 0.000</td> <td>    1.109</td> <td>    2.189</td>\n",
       "</tr>\n",
       "</table>\n",
       "<table class=\"simpletable\">\n",
       "<tr>\n",
       "  <th>Omnibus:</th>       <td> 3.649</td> <th>  Durbin-Watson:     </th> <td>   1.248</td>\n",
       "</tr>\n",
       "<tr>\n",
       "  <th>Prob(Omnibus):</th> <td> 0.161</td> <th>  Jarque-Bera (JB):  </th> <td>   2.086</td>\n",
       "</tr>\n",
       "<tr>\n",
       "  <th>Skew:</th>          <td> 0.750</td> <th>  Prob(JB):          </th> <td>   0.352</td>\n",
       "</tr>\n",
       "<tr>\n",
       "  <th>Kurtosis:</th>      <td> 3.367</td> <th>  Cond. No.          </th> <td>    18.3</td>\n",
       "</tr>\n",
       "</table><br/><br/>Notes:<br/>[1] Standard Errors assume that the covariance matrix of the errors is correctly specified."
      ],
      "text/plain": [
       "<class 'statsmodels.iolib.summary.Summary'>\n",
       "\"\"\"\n",
       "                            OLS Regression Results                            \n",
       "==============================================================================\n",
       "Dep. Variable:          Delivery_Time   R-squared:                       0.682\n",
       "Model:                            OLS   Adj. R-squared:                  0.666\n",
       "Method:                 Least Squares   F-statistic:                     40.80\n",
       "Date:                Thu, 13 Oct 2022   Prob (F-statistic):           3.98e-06\n",
       "Time:                        16:26:24   Log-Likelihood:                -51.357\n",
       "No. Observations:                  21   AIC:                             106.7\n",
       "Df Residuals:                      19   BIC:                             108.8\n",
       "Df Model:                           1                                         \n",
       "Covariance Type:            nonrobust                                         \n",
       "================================================================================\n",
       "                   coef    std err          t      P>|t|      [0.025      0.975]\n",
       "--------------------------------------------------------------------------------\n",
       "Intercept        6.5827      1.722      3.823      0.001       2.979      10.186\n",
       "Sorting_Time     1.6490      0.258      6.387      0.000       1.109       2.189\n",
       "==============================================================================\n",
       "Omnibus:                        3.649   Durbin-Watson:                   1.248\n",
       "Prob(Omnibus):                  0.161   Jarque-Bera (JB):                2.086\n",
       "Skew:                           0.750   Prob(JB):                        0.352\n",
       "Kurtosis:                       3.367   Cond. No.                         18.3\n",
       "==============================================================================\n",
       "\n",
       "Notes:\n",
       "[1] Standard Errors assume that the covariance matrix of the errors is correctly specified.\n",
       "\"\"\""
      ]
     },
     "execution_count": 11,
     "metadata": {},
     "output_type": "execute_result"
    }
   ],
   "source": [
    "model.summary()"
   ]
  },
  {
   "cell_type": "markdown",
   "id": "1993148c",
   "metadata": {},
   "source": [
    "# Model Prediction"
   ]
  },
  {
   "cell_type": "code",
   "execution_count": 12,
   "id": "a15d34b5",
   "metadata": {},
   "outputs": [
    {
     "data": {
      "text/html": [
       "<div>\n",
       "<style scoped>\n",
       "    .dataframe tbody tr th:only-of-type {\n",
       "        vertical-align: middle;\n",
       "    }\n",
       "\n",
       "    .dataframe tbody tr th {\n",
       "        vertical-align: top;\n",
       "    }\n",
       "\n",
       "    .dataframe thead th {\n",
       "        text-align: right;\n",
       "    }\n",
       "</style>\n",
       "<table border=\"1\" class=\"dataframe\">\n",
       "  <thead>\n",
       "    <tr style=\"text-align: right;\">\n",
       "      <th></th>\n",
       "      <th>Sorting_Time</th>\n",
       "    </tr>\n",
       "  </thead>\n",
       "  <tbody>\n",
       "    <tr>\n",
       "      <th>0</th>\n",
       "      <td>6</td>\n",
       "    </tr>\n",
       "    <tr>\n",
       "      <th>1</th>\n",
       "      <td>8</td>\n",
       "    </tr>\n",
       "  </tbody>\n",
       "</table>\n",
       "</div>"
      ],
      "text/plain": [
       "   Sorting_Time\n",
       "0             6\n",
       "1             8"
      ]
     },
     "execution_count": 12,
     "metadata": {},
     "output_type": "execute_result"
    }
   ],
   "source": [
    "new_data= pd.Series([6,8])\n",
    "new_data\n",
    "data_pred=pd.DataFrame(new_data, columns=[\"Sorting_Time\"])\n",
    "data_pred"
   ]
  },
  {
   "cell_type": "code",
   "execution_count": 13,
   "id": "9eeb43dc",
   "metadata": {},
   "outputs": [
    {
     "data": {
      "text/plain": [
       "0    16.476853\n",
       "1    19.774893\n",
       "dtype: float64"
      ]
     },
     "execution_count": 13,
     "metadata": {},
     "output_type": "execute_result"
    }
   ],
   "source": [
    "model.predict(data_pred)"
   ]
  },
  {
   "cell_type": "code",
   "execution_count": 14,
   "id": "04c5f98e",
   "metadata": {},
   "outputs": [
    {
     "data": {
      "text/html": [
       "<div>\n",
       "<style scoped>\n",
       "    .dataframe tbody tr th:only-of-type {\n",
       "        vertical-align: middle;\n",
       "    }\n",
       "\n",
       "    .dataframe tbody tr th {\n",
       "        vertical-align: top;\n",
       "    }\n",
       "\n",
       "    .dataframe thead th {\n",
       "        text-align: right;\n",
       "    }\n",
       "</style>\n",
       "<table border=\"1\" class=\"dataframe\">\n",
       "  <thead>\n",
       "    <tr style=\"text-align: right;\">\n",
       "      <th></th>\n",
       "      <th>Delivery_Time</th>\n",
       "      <th>Sorting_Time</th>\n",
       "    </tr>\n",
       "  </thead>\n",
       "  <tbody>\n",
       "    <tr>\n",
       "      <th>0</th>\n",
       "      <td>21.00</td>\n",
       "      <td>10</td>\n",
       "    </tr>\n",
       "    <tr>\n",
       "      <th>1</th>\n",
       "      <td>13.50</td>\n",
       "      <td>4</td>\n",
       "    </tr>\n",
       "    <tr>\n",
       "      <th>2</th>\n",
       "      <td>19.75</td>\n",
       "      <td>6</td>\n",
       "    </tr>\n",
       "    <tr>\n",
       "      <th>3</th>\n",
       "      <td>24.00</td>\n",
       "      <td>9</td>\n",
       "    </tr>\n",
       "    <tr>\n",
       "      <th>4</th>\n",
       "      <td>29.00</td>\n",
       "      <td>10</td>\n",
       "    </tr>\n",
       "    <tr>\n",
       "      <th>5</th>\n",
       "      <td>15.35</td>\n",
       "      <td>6</td>\n",
       "    </tr>\n",
       "    <tr>\n",
       "      <th>6</th>\n",
       "      <td>19.00</td>\n",
       "      <td>7</td>\n",
       "    </tr>\n",
       "    <tr>\n",
       "      <th>7</th>\n",
       "      <td>9.50</td>\n",
       "      <td>3</td>\n",
       "    </tr>\n",
       "    <tr>\n",
       "      <th>8</th>\n",
       "      <td>17.90</td>\n",
       "      <td>10</td>\n",
       "    </tr>\n",
       "    <tr>\n",
       "      <th>9</th>\n",
       "      <td>18.75</td>\n",
       "      <td>9</td>\n",
       "    </tr>\n",
       "    <tr>\n",
       "      <th>10</th>\n",
       "      <td>19.83</td>\n",
       "      <td>8</td>\n",
       "    </tr>\n",
       "    <tr>\n",
       "      <th>11</th>\n",
       "      <td>10.75</td>\n",
       "      <td>4</td>\n",
       "    </tr>\n",
       "    <tr>\n",
       "      <th>12</th>\n",
       "      <td>16.68</td>\n",
       "      <td>7</td>\n",
       "    </tr>\n",
       "    <tr>\n",
       "      <th>13</th>\n",
       "      <td>11.50</td>\n",
       "      <td>3</td>\n",
       "    </tr>\n",
       "    <tr>\n",
       "      <th>14</th>\n",
       "      <td>12.03</td>\n",
       "      <td>3</td>\n",
       "    </tr>\n",
       "    <tr>\n",
       "      <th>15</th>\n",
       "      <td>14.88</td>\n",
       "      <td>4</td>\n",
       "    </tr>\n",
       "    <tr>\n",
       "      <th>16</th>\n",
       "      <td>13.75</td>\n",
       "      <td>6</td>\n",
       "    </tr>\n",
       "    <tr>\n",
       "      <th>17</th>\n",
       "      <td>18.11</td>\n",
       "      <td>7</td>\n",
       "    </tr>\n",
       "    <tr>\n",
       "      <th>18</th>\n",
       "      <td>8.00</td>\n",
       "      <td>2</td>\n",
       "    </tr>\n",
       "    <tr>\n",
       "      <th>19</th>\n",
       "      <td>17.83</td>\n",
       "      <td>7</td>\n",
       "    </tr>\n",
       "    <tr>\n",
       "      <th>20</th>\n",
       "      <td>21.50</td>\n",
       "      <td>5</td>\n",
       "    </tr>\n",
       "  </tbody>\n",
       "</table>\n",
       "</div>"
      ],
      "text/plain": [
       "    Delivery_Time  Sorting_Time\n",
       "0           21.00            10\n",
       "1           13.50             4\n",
       "2           19.75             6\n",
       "3           24.00             9\n",
       "4           29.00            10\n",
       "5           15.35             6\n",
       "6           19.00             7\n",
       "7            9.50             3\n",
       "8           17.90            10\n",
       "9           18.75             9\n",
       "10          19.83             8\n",
       "11          10.75             4\n",
       "12          16.68             7\n",
       "13          11.50             3\n",
       "14          12.03             3\n",
       "15          14.88             4\n",
       "16          13.75             6\n",
       "17          18.11             7\n",
       "18           8.00             2\n",
       "19          17.83             7\n",
       "20          21.50             5"
      ]
     },
     "execution_count": 14,
     "metadata": {},
     "output_type": "execute_result"
    }
   ],
   "source": [
    "df"
   ]
  },
  {
   "cell_type": "markdown",
   "id": "f59ebe99",
   "metadata": {},
   "source": [
    "# Transformation For Continuous Variable"
   ]
  },
  {
   "cell_type": "code",
   "execution_count": 17,
   "id": "ed0d0f5e",
   "metadata": {},
   "outputs": [
    {
     "data": {
      "image/png": "[encoded data removed]",
      "text/plain": [
       "<Figure size 1080x360 with 2 Axes>"
      ]
     },
     "metadata": {
      "needs_background": "light"
     },
     "output_type": "display_data"
    }
   ],
   "source": [
    "# log trasformation :\n",
    "df['log_YE']= np.log(df[\"Delivery_Time\"])\n",
    "\n",
    "fig, ax=plt.subplots(nrows=1, ncols=2, figsize=(15,5))\n",
    "ax[0].hist(df['Delivery_Time']);ax[0].set_title(\"Delivery_Time\")\n",
    "ax[1].hist(df['log_YE']);ax[1].set_title(\"Log_Delivery_Time\")\n",
    "plt.show()"
   ]
  },
  {
   "cell_type": "code",
   "execution_count": 18,
   "id": "bb661375",
   "metadata": {},
   "outputs": [
    {
     "data": {
      "image/png": "[encoded data removed]",
      "text/plain": [
       "<Figure size 1080x360 with 2 Axes>"
      ]
     },
     "metadata": {
      "needs_background": "light"
     },
     "output_type": "display_data"
    }
   ],
   "source": [
    "# log trasformation :\n",
    "df['log_YE']= np.log(df[\"Sorting_Time\"])\n",
    "\n",
    "fig, ax=plt.subplots(nrows=1, ncols=2, figsize=(15,5))\n",
    "ax[0].hist(df['Delivery_Time']);ax[0].set_title(\"Delivery_Time\")\n",
    "ax[1].hist(df['log_YE']);ax[1].set_title(\"Log_Sorting_Time\")\n",
    "plt.show()"
   ]
  },
  {
   "cell_type": "code",
   "execution_count": 21,
   "id": "431a1e93",
   "metadata": {},
   "outputs": [
    {
     "name": "stderr",
     "output_type": "stream",
     "text": [
      "C:\\ProgramData\\Anaconda3\\lib\\site-packages\\seaborn\\_decorators.py:36: FutureWarning: Pass the following variables as keyword args: x, y. From version 0.12, the only valid positional argument will be `data`, and passing other arguments without an explicit keyword will result in an error or misinterpretation.\n",
      "  warnings.warn(\n"
     ]
    },
    {
     "data": {
      "image/png": "[encoded data removed]",
      "text/plain": [
       "<Figure size 432x432 with 3 Axes>"
      ]
     },
     "metadata": {
      "needs_background": "light"
     },
     "output_type": "display_data"
    }
   ],
   "source": [
    "sns.jointplot(df['Delivery_Time'],df['Sorting_Time'], kind='kde')\n",
    "plt.show()"
   ]
  },
  {
   "cell_type": "code",
   "execution_count": 23,
   "id": "e0b304f1",
   "metadata": {},
   "outputs": [
    {
     "data": {
      "image/png": "[encoded data removed]",
      "text/plain": [
       "<Figure size 1080x360 with 2 Axes>"
      ]
     },
     "metadata": {
      "needs_background": "light"
     },
     "output_type": "display_data"
    }
   ],
   "source": [
    "# Square_Transformation\n",
    "df['sqr_DT']= np.square(df[\"Delivery_Time\"])\n",
    "\n",
    "fig, ax=plt.subplots(nrows=1, ncols=2, figsize=(15,5))\n",
    "ax[0].hist(df['Delivery_Time']);ax[0].set_title(\"Delivery_Time\")\n",
    "ax[1].hist(df['sqr_DT']);ax[1].set_title(\"Sqaure_Delivery_Time\")\n",
    "plt.show()"
   ]
  },
  {
   "cell_type": "code",
   "execution_count": 24,
   "id": "51153798",
   "metadata": {},
   "outputs": [
    {
     "data": {
      "image/png": "[encoded data removed]",
      "text/plain": [
       "<Figure size 1080x360 with 2 Axes>"
      ]
     },
     "metadata": {
      "needs_background": "light"
     },
     "output_type": "display_data"
    }
   ],
   "source": [
    "#square-Root_Transformation\n",
    "df['sqr_S_T']= np.square(df[\"Sorting_Time\"])\n",
    "\n",
    "fig, ax=plt.subplots(nrows=1, ncols=2, figsize=(15,5))\n",
    "ax[0].hist(df['Sorting_Time']);ax[0].set_title(\"Sorting_Time\")\n",
    "ax[1].hist(df['sqr_S_T']);ax[1].set_title(\"Sqaure_Sorting_Time\")\n",
    "plt.show()"
   ]
  },
  {
   "cell_type": "code",
   "execution_count": 25,
   "id": "48405022",
   "metadata": {},
   "outputs": [
    {
     "data": {
      "image/png": "[encoded data removed]",
      "text/plain": [
       "<Figure size 1080x360 with 2 Axes>"
      ]
     },
     "metadata": {
      "needs_background": "light"
     },
     "output_type": "display_data"
    }
   ],
   "source": [
    "df['sqrt_S_T']= np.sqrt(df[\"Sorting_Time\"])\n",
    "\n",
    "fig, ax=plt.subplots(nrows=1, ncols=2, figsize=(15,5))\n",
    "ax[0].hist(df['Sorting_Time']);ax[0].set_title(\"Sorting_Time\")\n",
    "ax[1].hist(df['sqrt_S_T']);ax[1].set_title(\"Sqrt_S_T\")\n",
    "plt.show()"
   ]
  },
  {
   "cell_type": "markdown",
   "id": "c443a5cf",
   "metadata": {},
   "source": [
    "# 2) Salary_Hike -> Build a prediction Model For Salary_Hike"
   ]
  },
  {
   "cell_type": "markdown",
   "id": "18ebb094",
   "metadata": {},
   "source": [
    "# EDA"
   ]
  },
  {
   "cell_type": "code",
   "execution_count": null,
   "id": "7349aae9",
   "metadata": {},
   "outputs": [],
   "source": [
    "data = pd.read_csv(\"C:\\\\Users\\\\LENOVO\\\\Downloads\\\\Salary_Data.csv\")\n",
    "print(\"\\n Shape is                         : \\n\", data.shape)\n",
    "print(\"\\n Data Types                       :\\n\", data.dtypes)\n",
    "print(\"\\n Null values are                  :\\n\", data.isna().sum())\n",
    "print(\"\\n Discriptive Analysis Of Data     :\\n\", data.describe())\n",
    "print(\"\\n Data Info                        :\\n\", data.info())\n",
    "print(\"\\n Columns names                       :\\n\", data.columns)"
   ]
  },
  {
   "cell_type": "code",
   "execution_count": null,
   "id": "3f4d173a",
   "metadata": {},
   "outputs": [],
   "source": [
    "data.head()"
   ]
  },
  {
   "cell_type": "markdown",
   "id": "b6793b30",
   "metadata": {},
   "source": [
    "# Correlation"
   ]
  },
  {
   "cell_type": "code",
   "execution_count": null,
   "id": "2625e9d0",
   "metadata": {},
   "outputs": [],
   "source": [
    "print(\"\\n Correlation Between data Points :\\n\", data.corr())\n",
    "# Therefore Value Is 0.978242 we can say, correlation Between years Experience and The salary is in Positive"
   ]
  },
  {
   "cell_type": "markdown",
   "id": "0023e441",
   "metadata": {},
   "source": [
    "# Data Visualization"
   ]
  },
  {
   "cell_type": "code",
   "execution_count": null,
   "id": "57ad04a2",
   "metadata": {},
   "outputs": [],
   "source": [
    "fig, ax=plt.subplots(nrows=1, ncols=2, figsize=(15,5))\n",
    "ax[0].boxplot(data['YearsExperience']);ax[0].set_title(\"Years Experience\")\n",
    "ax[1].boxplot(data['Salary']);ax[1].set_title(\"Salary\")\n",
    "plt.show()"
   ]
  },
  {
   "cell_type": "markdown",
   "id": "02440fdd",
   "metadata": {},
   "source": [
    "# Transformation For Continuous Variable :"
   ]
  },
  {
   "cell_type": "code",
   "execution_count": null,
   "id": "098436c8",
   "metadata": {},
   "outputs": [],
   "source": [
    "# Log Transformation\n",
    "data['log_YE']= np.log(data[\"YearsExperience\"])\n",
    "fig, ax=plt.subplots(nrows=1, ncols=2, figsize=(15,5))\n",
    "ax[0].hist(data['YearsExperience']);ax[0].set_title(\"Years Experience\")\n",
    "ax[1].hist(data['log_YE']);ax[1].set_title(\"Log_Years_Experience\")\n",
    "plt.show()"
   ]
  },
  {
   "cell_type": "code",
   "execution_count": null,
   "id": "03c6f32c",
   "metadata": {},
   "outputs": [],
   "source": [
    "data['log_S']= np.log(data[\"Salary\"])\n",
    "\n",
    "fig, ax=plt.subplots(nrows=1,ncols=2,figsize=(15,5))\n",
    "ax[0].hist(data['YearsExperience']);ax[0].set_title(\"Years Experience\")\n",
    "ax[1].hist(data['log_S']);ax[1].set_title(\"Log_Salary\")\n",
    "plt.show()"
   ]
  },
  {
   "cell_type": "code",
   "execution_count": null,
   "id": "24cafd74",
   "metadata": {},
   "outputs": [],
   "source": [
    "sns.jointplot(data['YearsExperience'],data['Salary'],kind='kde')\n",
    "plt.show()"
   ]
  },
  {
   "cell_type": "code",
   "execution_count": null,
   "id": "03409046",
   "metadata": {},
   "outputs": [],
   "source": [
    "# Square_Transformation\n",
    "data['sqr_YE']= np.square(data[\"YearsExperience\"])\n",
    "fig, ax=plt.subplots(nrows=1, ncols=2, figsize=(15,5))\n",
    "ax[0].hist(data['YearsExperience']);ax[0].set_title(\"Years Experience\")\n",
    "ax[1].hist(data['sqr_YE']);ax[1].set_title(\"Square_Years_Experience\")\n",
    "plt.show()\n"
   ]
  },
  {
   "cell_type": "code",
   "execution_count": null,
   "id": "836718e9",
   "metadata": {},
   "outputs": [],
   "source": [
    "data['sqr_S']= np.square(data[\"Salary\"])\n",
    "\n",
    "fig, ax=plt.subplots(nrows=1, ncols=2, figsize=(15,5))\n",
    "ax[0].hist(data['Salary']);ax[0].set_title(\"Salary\")\n",
    "ax[1].hist(data['sqr_S']);ax[1].set_title(\"Square_Salary\")\n",
    "plt.show()\n"
   ]
  },
  {
   "cell_type": "code",
   "execution_count": null,
   "id": "90bc1a50",
   "metadata": {},
   "outputs": [],
   "source": [
    "# Square-root_Transformation\n",
    "\n",
    "data['sqrt_YE']= np.sqrt(data[\"YearsExperience\"])\n",
    "\n",
    "fig, ax=plt.subplots(nrows=1, ncols=2, figsize=(15,5))\n",
    "ax[0].hist(data['YearsExperience']);ax[0].set_title(\"Years Experience\")\n",
    "ax[1].hist(data['sqrt_YE']);ax[1].set_title(\"Sqrt_Years_Experience\")\n",
    "plt.show()"
   ]
  },
  {
   "cell_type": "code",
   "execution_count": null,
   "id": "ff0d2162",
   "metadata": {},
   "outputs": [],
   "source": [
    "data['sqrt_S']= np.sqrt(data[\"Salary\"])\n",
    "\n",
    "fig, ax=plt.subplots(nrows=1, ncols=2, figsize=(15,5))\n",
    "ax[0].hist(data['Salary']);ax[0].set_title(\"Salary\")\n",
    "ax[1].hist(data['sqrt_S']);ax[1].set_title(\"Sqrt_Salary\")\n",
    "plt.show()"
   ]
  },
  {
   "cell_type": "code",
   "execution_count": null,
   "id": "2e74d2ee",
   "metadata": {},
   "outputs": [],
   "source": [
    "from sklearn.preprocessing import scale\n",
    "df = data.values\n",
    "df1 = scale(df) #Used to standardized the dataset\n",
    "sns.displot(df1, kind='kde')\n",
    "plt.show()"
   ]
  },
  {
   "cell_type": "code",
   "execution_count": null,
   "id": "07553c58",
   "metadata": {},
   "outputs": [],
   "source": [
    "# Normalize Data set\n",
    "from sklearn.preprocessing import normalize\n",
    "df1= normalize(data)\n",
    "plt.hist(df1)\n",
    "plt.show()\n",
    "#df1"
   ]
  },
  {
   "cell_type": "markdown",
   "id": "71fb13c4",
   "metadata": {},
   "source": [
    "# Model Building"
   ]
  },
  {
   "cell_type": "code",
   "execution_count": null,
   "id": "e65b11cd",
   "metadata": {},
   "outputs": [],
   "source": [
    "sns.regplot(x=\"Salary\", y=\"YearsExperience\", data=data)"
   ]
  },
  {
   "cell_type": "markdown",
   "id": "8f3ff164",
   "metadata": {},
   "source": [
    "# Model Fitting"
   ]
  },
  {
   "cell_type": "code",
   "execution_count": null,
   "id": "59193de5",
   "metadata": {},
   "outputs": [],
   "source": [
    "#Fitting Linear Regression Model\n",
    "model = smf.ols(\"Salary~YearsExperience\",data=data).fit()"
   ]
  },
  {
   "cell_type": "markdown",
   "id": "123cac46",
   "metadata": {},
   "source": [
    "# Model Testing :"
   ]
  },
  {
   "cell_type": "code",
   "execution_count": null,
   "id": "564166a7",
   "metadata": {},
   "outputs": [],
   "source": [
    "#Coefficients\n",
    "dir(model)\n",
    "model.params"
   ]
  },
  {
   "cell_type": "code",
   "execution_count": null,
   "id": "308fdaab",
   "metadata": {},
   "outputs": [],
   "source": [
    "# t values and p values\n",
    "print(\"t values are :\\n\", model.tvalues, '\\n', \"p values are :\\n\",model.pvalues)"
   ]
  },
  {
   "cell_type": "code",
   "execution_count": null,
   "id": "3744659f",
   "metadata": {},
   "outputs": [],
   "source": [
    "#Coefficient Of Determination: R squared Values\n",
    "print(\"R Squared value is:\", model.rsquared, \"\\nR Squared_adjacent value is:\", model.rsquared_adj)\n",
    "#R squared VALUE IS 0.95 "
   ]
  },
  {
   "cell_type": "code",
   "execution_count": null,
   "id": "e237bd53",
   "metadata": {},
   "outputs": [],
   "source": [
    "model.summary()"
   ]
  },
  {
   "cell_type": "markdown",
   "id": "8210667f",
   "metadata": {},
   "source": [
    "# Model Prediction:"
   ]
  },
  {
   "cell_type": "code",
   "execution_count": null,
   "id": "d0529eb8",
   "metadata": {},
   "outputs": [],
   "source": [
    "new_data= pd.Series([4,5])\n",
    "new_data\n",
    "data_pred=pd.DataFrame(new_data, columns=[\"YearsExperience\"])\n",
    "data_pred"
   ]
  },
  {
   "cell_type": "code",
   "execution_count": null,
   "id": "73a78618",
   "metadata": {},
   "outputs": [],
   "source": [
    "model.predict(data_pred)"
   ]
  },
  {
   "cell_type": "code",
   "execution_count": null,
   "id": "e17f4b43",
   "metadata": {},
   "outputs": [],
   "source": [
    "data"
   ]
  },
  {
   "cell_type": "code",
   "execution_count": null,
   "id": "df171f24",
   "metadata": {},
   "outputs": [],
   "source": []
  }
 ],
 "metadata": {
  "kernelspec": {
   "display_name": "Python 3",
   "language": "python",
   "name": "python3"
  },
  "language_info": {
   "codemirror_mode": {
    "name": "ipython",
    "version": 3
   },
   "file_extension": ".py",
   "mimetype": "text/x-python",
   "name": "python",
   "nbconvert_exporter": "python",
   "pygments_lexer": "ipython3",
   "version": "3.9.12"
  }
 },
 "nbformat": 4,
 "nbformat_minor": 5
}
